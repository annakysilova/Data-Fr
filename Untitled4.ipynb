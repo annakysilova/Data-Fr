{
  "nbformat": 4,
  "nbformat_minor": 0,
  "metadata": {
    "colab": {
      "name": "Untitled4.ipynb",
      "provenance": [],
      "authorship_tag": "ABX9TyOMK1uOp8XpzfVVEY7Wd6CW",
      "include_colab_link": true
    },
    "kernelspec": {
      "name": "python3",
      "display_name": "Python 3"
    }
  },
  "cells": [
    {
      "cell_type": "markdown",
      "metadata": {
        "id": "view-in-github",
        "colab_type": "text"
      },
      "source": [
        "<a href=\"https://colab.research.google.com/github/annakysilova/Data-Fr/blob/main/Untitled4.ipynb\" target=\"_parent\"><img src=\"https://colab.research.google.com/assets/colab-badge.svg\" alt=\"Open In Colab\"/></a>"
      ]
    },
    {
      "cell_type": "markdown",
      "metadata": {
        "id": "8VTbfE14wB8M"
      },
      "source": [
        "# Лабораторная работа №4"
      ]
    },
    {
      "cell_type": "code",
      "metadata": {
        "id": "jBJlSOnFwAPF"
      },
      "source": [
        "import numpy as np\r\n",
        "from numpy import *\r\n",
        "import math\r\n",
        "import matplotlib.pyplot as plt\r\n",
        "import csv"
      ],
      "execution_count": 1,
      "outputs": []
    },
    {
      "cell_type": "markdown",
      "metadata": {
        "id": "msl3Gu7kwVKO"
      },
      "source": [
        "Задание №1"
      ]
    },
    {
      "cell_type": "code",
      "metadata": {
        "colab": {
          "base_uri": "https://localhost:8080/",
          "height": 296
        },
        "id": "7fLjTOij5MYx",
        "outputId": "3ff8f421-0a56-4f1d-9d00-b6a138e1c5fc"
      },
      "source": [
        "labels = [\"июль\", \"август\", \"сентябрь\", \"октябрь\", \"ноябрь\", \"декабрь\"]\r\n",
        "values = [34, 67, 12, 7, 41, 39]\r\n",
        "width = 0.3\r\n",
        "x = np.arange(len(labels))\r\n",
        "fig, ax = plt.subplots()\r\n",
        "rects1 = ax.bar(x - width/2, values, width, label='Полученные значения', color = 'r')\r\n",
        "ax.set_title('Объем продаж ПК фирмой')\r\n",
        "ax.set_xticks(x)\r\n",
        "ax.set_xticklabels(labels)\r\n",
        "ax.legend()"
      ],
      "execution_count": 57,
      "outputs": [
        {
          "output_type": "execute_result",
          "data": {
            "text/plain": [
              "<matplotlib.legend.Legend at 0x7f61061797b8>"
            ]
          },
          "metadata": {
            "tags": []
          },
          "execution_count": 57
        },
        {
          "output_type": "display_data",
          "data": {
            "image/png": "[encoded data removed]",
            "text/plain": [
              "<Figure size 432x288 with 1 Axes>"
            ]
          },
          "metadata": {
            "tags": [],
            "needs_background": "light"
          }
        }
      ]
    },
    {
      "cell_type": "code",
      "metadata": {
        "colab": {
          "base_uri": "https://localhost:8080/",
          "height": 413
        },
        "id": "W2g1n7RT9Kv_",
        "outputId": "ce162b35-9818-4b6f-b522-5a165b274e0c"
      },
      "source": [
        "labels = [\"июль\", \"август\", \"сентябрь\", \"октябрь\", \"ноябрь\", \"декабрь\"]\r\n",
        "values = [34, 67, 12, 7, 41, 39]\r\n",
        "dpi = 80\r\n",
        "fig = plt.figure(dpi = dpi, figsize = (512 / dpi, 384 / dpi) )\r\n",
        "mpl.rcParams.update({'font.size': 9})\r\n",
        "plt.title('Объем продаж ПК фирмой')\r\n",
        "ax = plt.axes()\r\n",
        "ax.xaxis.grid(True, zorder = 1)\r\n",
        "xs = range(len(labels))\r\n",
        "plt.barh([x + 0.3 for x in xs], [ d * 1.5 for d in values], height = 0.2, color = 'orange', alpha = 0.7, label = 'Ожидавшиеся значения', zorder = 2)\r\n",
        "plt.barh([x + 0.05 for x in xs], values, height = 0.2, color = 'y', alpha = 0.7, label = 'Полученные значения', zorder = 2)\r\n",
        "plt.yticks(xs, labels, rotation = 10)\r\n",
        "\r\n",
        "plt.legend(loc='upper right')\r\n",
        "fig.savefig('barshoris.png')"
      ],
      "execution_count": 60,
      "outputs": [
        {
          "output_type": "stream",
          "text": [
            "/usr/local/lib/python3.6/dist-packages/ipykernel_launcher.py:7: MatplotlibDeprecationWarning: Adding an axes using the same arguments as a previous axes currently reuses the earlier instance.  In a future version, a new instance will always be created and returned.  Meanwhile, this warning can be suppressed, and the future behavior ensured, by passing a unique label to each axes instance.\n",
            "  import sys\n"
          ],
          "name": "stderr"
        },
        {
          "output_type": "display_data",
          "data": {
            "image/png": "[encoded data removed]",
            "text/plain": [
              "<Figure size 512x384 with 1 Axes>"
            ]
          },
          "metadata": {
            "tags": [],
            "needs_background": "light"
          }
        }
      ]
    },
    {
      "cell_type": "code",
      "metadata": {
        "id": "UDhOZgL4-_Tb"
      },
      "source": [
        ""
      ],
      "execution_count": null,
      "outputs": []
    }
  ]
}