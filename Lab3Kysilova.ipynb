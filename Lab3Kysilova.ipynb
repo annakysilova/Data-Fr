{
  "nbformat": 4,
  "nbformat_minor": 0,
  "metadata": {
    "colab": {
      "name": "Lab3Kysilova",
      "provenance": [],
      "toc_visible": true,
      "mount_file_id": "1wYQDJeRkIqO496pnep78G5aG6Kzk36zr",
      "authorship_tag": "ABX9TyP802iYrDxjk19MXxbK3dXo",
      "include_colab_link": true
    },
    "kernelspec": {
      "name": "python3",
      "display_name": "Python 3"
    }
  },
  "cells": [
    {
      "cell_type": "markdown",
      "metadata": {
        "id": "view-in-github",
        "colab_type": "text"
      },
      "source": [
        "<a href=\"https://colab.research.google.com/github/annakysilova/Data-Fr/blob/main/Lab3Kysilova.ipynb\" target=\"_parent\"><img src=\"https://colab.research.google.com/assets/colab-badge.svg\" alt=\"Open In Colab\"/></a>"
      ]
    },
    {
      "cell_type": "markdown",
      "metadata": {
        "id": "4tL3dNl7VIZm"
      },
      "source": [
        "# **Лабораторная работа №3**"
      ]
    },
    {
      "cell_type": "markdown",
      "metadata": {
        "id": "SknYxwJke6ip"
      },
      "source": [
        "Импорты и установки"
      ]
    },
    {
      "cell_type": "code",
      "metadata": {
        "id": "t9UtD3f7S2WG"
      },
      "source": [
        "import pandas as pd\r\n",
        "import matplotlib.pyplot as plt\r\n",
        "import numpy as np\r\n",
        "import seaborn\r\n",
        "import datetime\r\n",
        "plt.style.use('seaborn-whitegrid')"
      ],
      "execution_count": 1,
      "outputs": []
    },
    {
      "cell_type": "code",
      "metadata": {
        "colab": {
          "base_uri": "https://localhost:8080/"
        },
        "id": "ILdN0DsPS2-_",
        "outputId": "c9a53218-38f9-4485-e143-d54707cd5353"
      },
      "source": [
        "!pip install sklearn"
      ],
      "execution_count": 2,
      "outputs": [
        {
          "output_type": "stream",
          "text": [
            "Requirement already satisfied: sklearn in /usr/local/lib/python3.6/dist-packages (0.0)\n",
            "Requirement already satisfied: scikit-learn in /usr/local/lib/python3.6/dist-packages (from sklearn) (0.22.2.post1)\n",
            "Requirement already satisfied: scipy>=0.17.0 in /usr/local/lib/python3.6/dist-packages (from scikit-learn->sklearn) (1.4.1)\n",
            "Requirement already satisfied: numpy>=1.11.0 in /usr/local/lib/python3.6/dist-packages (from scikit-learn->sklearn) (1.19.4)\n",
            "Requirement already satisfied: joblib>=0.11 in /usr/local/lib/python3.6/dist-packages (from scikit-learn->sklearn) (1.0.0)\n"
          ],
          "name": "stdout"
        }
      ]
    },
    {
      "cell_type": "markdown",
      "metadata": {
        "id": "s3jPbo9MfGZN"
      },
      "source": [
        "### **Построение графика на основе массива**"
      ]
    },
    {
      "cell_type": "code",
      "metadata": {
        "colab": {
          "base_uri": "https://localhost:8080/",
          "height": 262
        },
        "id": "8Sh_EV9xS67a",
        "outputId": "9a8cf48c-9961-451b-b31f-44c1f9ad9f0a"
      },
      "source": [
        "Data=np.array([ [1,2], [9,7], [3,2], [4,6], [3,3], [4,4], [5,4], [6,4], [2,7], [2,9],[7,2], [1,4], [9,1] ])\r\n",
        "Column1=0\r\n",
        "Column2=1\r\n",
        "\r\n",
        "for i in range(len(Data)):\r\n",
        "  plt.plot( Data[i][Column1], Data[i][Column2], 'g>')\r\n",
        "\r\n",
        "plt.show()"
      ],
      "execution_count": 3,
      "outputs": [
        {
          "output_type": "display_data",
          "data": {
            "image/png": "[encoded data removed]",
            "text/plain": [
              "<Figure size 432x288 with 1 Axes>"
            ]
          },
          "metadata": {
            "tags": [],
            "needs_background": "light"
          }
        }
      ]
    },
    {
      "cell_type": "markdown",
      "metadata": {
        "id": "RdkhwdiUTCUT"
      },
      "source": [
        "### **Построение столбиковой диаграммы на основе массива**"
      ]
    },
    {
      "cell_type": "code",
      "metadata": {
        "colab": {
          "base_uri": "https://localhost:8080/",
          "height": 262
        },
        "id": "CACsP2aeS65k",
        "outputId": "705c6d6b-327b-4017-d4b1-e592a0c95673"
      },
      "source": [
        "Data=np.array([ [1,2], [9,7], [3,2], [4,6], [3,3], [4,4], [5,4], [6,4], [2,7], [2,9],[7,2], [1,4], [9,1] ])\r\n",
        "Column1=0\r\n",
        "Column2=1\r\n",
        "BarWidth=1/1.5\r\n",
        "\r\n",
        "for i in range( len(Data) ):\r\n",
        "  plt.bar(Data[i][Column1], Data[i][Column2], BarWidth , color=\"green\")\r\n",
        "\r\n",
        "plt.show()"
      ],
      "execution_count": 4,
      "outputs": [
        {
          "output_type": "display_data",
          "data": {
            "image/png": "[encoded data removed]",
            "text/plain": [
              "<Figure size 432x288 with 1 Axes>"
            ]
          },
          "metadata": {
            "tags": [],
            "needs_background": "light"
          }
        }
      ]
    },
    {
      "cell_type": "markdown",
      "metadata": {
        "id": "5rjYkG_xfmLp"
      },
      "source": [
        "### **Построение Scatter plot диаграммы на основе массива**"
      ]
    },
    {
      "cell_type": "code",
      "metadata": {
        "colab": {
          "base_uri": "https://localhost:8080/",
          "height": 262
        },
        "id": "KaGKHTBrS61v",
        "outputId": "efe03050-d8be-4fe8-af74-cf17dc2313a1"
      },
      "source": [
        "Data=np.array([  [1,2], [9,7], [3,2], [4,6], [3,3], [4,4], [5,4], [6,4], [2,7], [2,9],[7,2], [1,4], [9,1] ])\r\n",
        "Column1=0\r\n",
        "Column2=1\r\n",
        "plt.scatter( Data[:, Column1], Data[:, Column2] , marker = \"x\" , s=150 , linewidths = 5 , zorder = 1)\r\n",
        "plt.show()"
      ],
      "execution_count": 5,
      "outputs": [
        {
          "output_type": "display_data",
          "data": {
            "image/png": "[encoded data removed]",
            "text/plain": [
              "<Figure size 432x288 with 1 Axes>"
            ]
          },
          "metadata": {
            "tags": [],
            "needs_background": "light"
          }
        }
      ]
    },
    {
      "cell_type": "markdown",
      "metadata": {
        "id": "QQc7_agHTHk3"
      },
      "source": [
        "### **Построение Парных диаграмм на основе массива**"
      ]
    },
    {
      "cell_type": "code",
      "metadata": {
        "colab": {
          "base_uri": "https://localhost:8080/",
          "height": 374
        },
        "id": "KiWiLGkMS6yj",
        "outputId": "e6f24d11-70d2-4857-88af-7aae28ac3502"
      },
      "source": [
        "data=np.array([ [1,2], [9,7], [3,2], [4,6], [3,3], [4,4], [5,4], [6,4], [2,7], [2,9],[7,2], [1,4], [9,1] ])\r\n",
        "df = pd.DataFrame(Data)\r\n",
        "\r\n",
        "#Calculating Pair Plot Between All Features\r\n",
        "seaborn.pairplot(df)\r\n",
        "plt.show()"
      ],
      "execution_count": 6,
      "outputs": [
        {
          "output_type": "display_data",
          "data": {
            "image/png": "[encoded data removed]",
            "text/plain": [
              "<Figure size 360x360 with 6 Axes>"
            ]
          },
          "metadata": {
            "tags": [],
            "needs_background": "light"
          }
        }
      ]
    },
    {
      "cell_type": "markdown",
      "metadata": {
        "id": "kj7VAEgSf74P"
      },
      "source": [
        "Подключение гугл диска"
      ]
    },
    {
      "cell_type": "code",
      "metadata": {
        "colab": {
          "base_uri": "https://localhost:8080/"
        },
        "id": "E3cVvIM3S6wY",
        "outputId": "a3968abc-a3c2-4def-b0f7-012c163b9a36"
      },
      "source": [
        "from google.colab import drive\r\n",
        "drive.mount('/content/drive')"
      ],
      "execution_count": 7,
      "outputs": [
        {
          "output_type": "stream",
          "text": [
            "Drive already mounted at /content/drive; to attempt to forcibly remount, call drive.mount(\"/content/drive\", force_remount=True).\n"
          ],
          "name": "stdout"
        }
      ]
    },
    {
      "cell_type": "markdown",
      "metadata": {
        "id": "cEZfKzr0f-0M"
      },
      "source": [
        "### **Построение Диаграммы с группировкой и условиями**"
      ]
    },
    {
      "cell_type": "code",
      "metadata": {
        "colab": {
          "base_uri": "https://localhost:8080/",
          "height": 312
        },
        "id": "Uduo4-NDS6sl",
        "outputId": "4c77ab5d-e6e9-454e-8bd1-09c0598e59f9"
      },
      "source": [
        "data = pd.read_csv('/content/drive/MyDrive/Data Science/cvs/trip.csv')\r\n",
        "data = data.sort_values(by='birthyear')\r\n",
        "data = data[(data['birthyear'] >= 1931) & (data['birthyear']<=1999)]\r\n",
        "groupby_birthyear = data.groupby('birthyear').size()\r\n",
        "groupby_birthyear.plot.bar(title = 'Distribution of birth years', figsize = (15,4))\r\n",
        "plt.show()"
      ],
      "execution_count": 8,
      "outputs": [
        {
          "output_type": "display_data",
          "data": {
            "image/png": "[encoded data removed]",
            "text/plain": [
              "<Figure size 1080x288 with 1 Axes>"
            ]
          },
          "metadata": {
            "tags": [],
            "needs_background": "light"
          }
        }
      ]
    },
    {
      "cell_type": "markdown",
      "metadata": {
        "id": "pHfqYDSugOeO"
      },
      "source": [
        "### **Построение Диаграммы с долями**"
      ]
    },
    {
      "cell_type": "code",
      "metadata": {
        "colab": {
          "base_uri": "https://localhost:8080/",
          "height": 312
        },
        "id": "dy-sUlB5S6qa",
        "outputId": "8556d7db-6f3b-4d9b-9d5a-0a0b98202932"
      },
      "source": [
        "data1 = data.groupby(['birthyear', 'gender']).size().unstack('gender').fillna(0)\r\n",
        "data1.plot.bar(title ='Distribution of birth years by Gender', stacked=True, figsize = (15,4))\r\n",
        "plt.show()"
      ],
      "execution_count": 9,
      "outputs": [
        {
          "output_type": "display_data",
          "data": {
            "image/png": "[encoded data removed]",
            "text/plain": [
              "<Figure size 1080x288 with 1 Axes>"
            ]
          },
          "metadata": {
            "tags": [],
            "needs_background": "light"
          }
        }
      ]
    },
    {
      "cell_type": "markdown",
      "metadata": {
        "id": "usg_TBwhTr_9"
      },
      "source": [
        "### **Конвертирование текста в дату**"
      ]
    },
    {
      "cell_type": "code",
      "metadata": {
        "id": "-5HHj3qfS6mw"
      },
      "source": [
        "data['StartTime1'] = data['starttime'].apply(lambda x: datetime.datetime.strptime(x, \"%m/%d/%Y %H:%M\")\r\n",
        ")\r\n",
        "data['year'] = data['StartTime1'].apply(lambda x: x.year )\r\n",
        "data['month'] = data['StartTime1'].apply(lambda x: x.month )\r\n",
        "data['day'] = data['StartTime1'].apply(lambda x: x.day )\r\n",
        "data['hour'] = data['StartTime1'].apply(lambda x: x.hour )"
      ],
      "execution_count": 10,
      "outputs": []
    },
    {
      "cell_type": "markdown",
      "metadata": {
        "id": "h-zjRPX9TzTx"
      },
      "source": [
        "# **Описательная статистика ряда**"
      ]
    },
    {
      "cell_type": "markdown",
      "metadata": {
        "id": "mfCnM--WgZy5"
      },
      "source": [
        "### **Расчет средней, среднеквадратичного отклонения и медианы**"
      ]
    },
    {
      "cell_type": "code",
      "metadata": {
        "colab": {
          "base_uri": "https://localhost:8080/"
        },
        "id": "JIugwdJGS6kk",
        "outputId": "7d673c22-d877-4092-a778-a5f737582850"
      },
      "source": [
        "print (data['tripduration'].mean())   # Расчет средней\r\n",
        "print (data['tripduration'].std())    # Cреднеквадратичное отклонение\r\n",
        "print (data['tripduration'].median()) # Mедиана"
      ],
      "execution_count": 11,
      "outputs": [
        {
          "output_type": "stream",
          "text": [
            "1065.7854583333333\n",
            "2386.115634188\n",
            "639.8744999999999\n"
          ],
          "name": "stdout"
        }
      ]
    },
    {
      "cell_type": "markdown",
      "metadata": {
        "id": "PFwGzGaMgmpy"
      },
      "source": [
        "### **Расчет корреляции**"
      ]
    },
    {
      "cell_type": "code",
      "metadata": {
        "colab": {
          "base_uri": "https://localhost:8080/"
        },
        "id": "0r6PmcykS6ho",
        "outputId": "817c67ef-ebee-434b-a655-5895290f5ce3"
      },
      "source": [
        "pd.set_option('precision', 3)\r\n",
        "correlations = data[['tripduration','year']].corr()\r\n",
        "print(correlations)"
      ],
      "execution_count": 12,
      "outputs": [
        {
          "output_type": "stream",
          "text": [
            "              tripduration  year\n",
            "tripduration           1.0   NaN\n",
            "year                   NaN   NaN\n"
          ],
          "name": "stdout"
        }
      ]
    },
    {
      "cell_type": "markdown",
      "metadata": {
        "id": "k5atOriGgtIf"
      },
      "source": [
        "### **Расчет средней, среднеквадратичного отклонения и медианы**"
      ]
    },
    {
      "cell_type": "code",
      "metadata": {
        "id": "d9BLry0MS6fc"
      },
      "source": [
        "from sklearn import datasets\r\n",
        "from sklearn.model_selection import train_test_split\r\n",
        "from sklearn.linear_model import LinearRegression\r\n",
        "from sklearn.metrics import r2_score"
      ],
      "execution_count": 13,
      "outputs": []
    },
    {
      "cell_type": "markdown",
      "metadata": {
        "id": "hSWlvIdxg1ON"
      },
      "source": [
        "### **Загружаем данные по диабету**"
      ]
    },
    {
      "cell_type": "code",
      "metadata": {
        "id": "OhxlCDGiS6dK"
      },
      "source": [
        "diabetes = datasets.load_diabetes()"
      ],
      "execution_count": 14,
      "outputs": []
    },
    {
      "cell_type": "markdown",
      "metadata": {
        "id": "jX372BiSg34q"
      },
      "source": [
        "### **Устанавливаем 20 наблюдений в качестве тестовых**"
      ]
    },
    {
      "cell_type": "code",
      "metadata": {
        "id": "XnKuarOZS6at"
      },
      "source": [
        "X_train = diabetes.data[:-20]\r\n",
        "X_test = diabetes.data[-20:]\r\n",
        "y_train = diabetes.target[:-20]\r\n",
        "y_test = diabetes.target[-20:]\r\n",
        "\r\n",
        "regr = LinearRegression()"
      ],
      "execution_count": 16,
      "outputs": []
    },
    {
      "cell_type": "markdown",
      "metadata": {
        "id": "lgctBO8sg5NN"
      },
      "source": [
        "### **Обучение**"
      ]
    },
    {
      "cell_type": "code",
      "metadata": {
        "colab": {
          "base_uri": "https://localhost:8080/"
        },
        "id": "YMjJSp56S6YQ",
        "outputId": "d1e83b72-ac6a-4cee-adfa-83fe8e5a5a41"
      },
      "source": [
        "regr.fit(X_train, y_train)"
      ],
      "execution_count": 17,
      "outputs": [
        {
          "output_type": "execute_result",
          "data": {
            "text/plain": [
              "LinearRegression(copy_X=True, fit_intercept=True, n_jobs=None, normalize=False)"
            ]
          },
          "metadata": {
            "tags": []
          },
          "execution_count": 17
        }
      ]
    },
    {
      "cell_type": "markdown",
      "metadata": {
        "id": "9ylxxaEsg-e7"
      },
      "source": [
        "### **Прогнозирование на тестовых данных**"
      ]
    },
    {
      "cell_type": "code",
      "metadata": {
        "colab": {
          "base_uri": "https://localhost:8080/"
        },
        "id": "ghMCr69qT7K6",
        "outputId": "2b711ce7-8feb-418e-c4df-ce3461b73cfb"
      },
      "source": [
        "y_pred = regr.predict(X_test)\r\n",
        "print ('R2 score: %f' %r2_score(y_test, y_pred))\r\n",
        "print ('Intercept: %f' %regr.intercept_)\r\n",
        "print ('Coefficients: %s' %str(regr.coef_))"
      ],
      "execution_count": 18,
      "outputs": [
        {
          "output_type": "stream",
          "text": [
            "R2 score: 0.585075\n",
            "Intercept: 152.764307\n",
            "Coefficients: [ 3.03499549e-01 -2.37639315e+02  5.10530605e+02  3.27736980e+02\n",
            " -8.14131709e+02  4.92814588e+02  1.02848452e+02  1.84606489e+02\n",
            "  7.43519617e+02  7.60951722e+01]\n"
          ],
          "name": "stdout"
        }
      ]
    },
    {
      "cell_type": "markdown",
      "metadata": {
        "id": "GRiqQRfWhDyo"
      },
      "source": [
        "### **Построение графика по 3 – переменной массива Х**"
      ]
    },
    {
      "cell_type": "code",
      "metadata": {
        "colab": {
          "base_uri": "https://localhost:8080/",
          "height": 294
        },
        "id": "JefVPpmkT7JA",
        "outputId": "5b80fa3c-a8aa-4ff7-8cf0-00d9b944f992"
      },
      "source": [
        "plt.scatter(X_test[:,3], y_test, color='red')\r\n",
        "plt.plot(X_test[:,3], y_pred, color='green', linewidth=3)\r\n",
        "plt.xlabel('X axis')\r\n",
        "plt.ylabel('Y axis')"
      ],
      "execution_count": 19,
      "outputs": [
        {
          "output_type": "execute_result",
          "data": {
            "text/plain": [
              "Text(0, 0.5, 'Y axis')"
            ]
          },
          "metadata": {
            "tags": []
          },
          "execution_count": 19
        },
        {
          "output_type": "display_data",
          "data": {
            "image/png": "[encoded data removed]",
            "text/plain": [
              "<Figure size 432x288 with 1 Axes>"
            ]
          },
          "metadata": {
            "tags": [],
            "needs_background": "light"
          }
        }
      ]
    },
    {
      "cell_type": "markdown",
      "metadata": {
        "id": "hPKUIbg7T_yM"
      },
      "source": [
        "# **Регрессионная модель (SVM)**"
      ]
    },
    {
      "cell_type": "code",
      "metadata": {
        "id": "pYMU_v3IT7Hf"
      },
      "source": [
        "from sklearn.svm import SVR\r\n",
        "regr = SVR(kernel='linear')"
      ],
      "execution_count": 20,
      "outputs": []
    },
    {
      "cell_type": "markdown",
      "metadata": {
        "id": "9Ur-IDurjRFU"
      },
      "source": [
        "### **Варианты модели: kernel='linear' или 'poly'или 'rbf'**"
      ]
    },
    {
      "cell_type": "code",
      "metadata": {
        "colab": {
          "base_uri": "https://localhost:8080/"
        },
        "id": "Sv-zmP-wT7Fq",
        "outputId": "6162fc3e-3a34-40c9-e585-67fb9f009533"
      },
      "source": [
        "regr.fit(X_train, y_train)"
      ],
      "execution_count": 21,
      "outputs": [
        {
          "output_type": "execute_result",
          "data": {
            "text/plain": [
              "SVR(C=1.0, cache_size=200, coef0=0.0, degree=3, epsilon=0.1, gamma='scale',\n",
              "    kernel='linear', max_iter=-1, shrinking=True, tol=0.001, verbose=False)"
            ]
          },
          "metadata": {
            "tags": []
          },
          "execution_count": 21
        }
      ]
    },
    {
      "cell_type": "markdown",
      "metadata": {
        "id": "SRzTbfu6UD-M"
      },
      "source": [
        "### **Прогнозирование на тестовых данных**"
      ]
    },
    {
      "cell_type": "code",
      "metadata": {
        "colab": {
          "base_uri": "https://localhost:8080/",
          "height": 312
        },
        "id": "7XPbHS3UT7Da",
        "outputId": "449fd232-fa7c-4c49-cbc2-06973def6779"
      },
      "source": [
        "y_pred = regr.predict(X_test)\r\n",
        "\r\n",
        "print ('R2 score: %f'%r2_score(y_test, y_pred))\r\n",
        "print ('Intercept: %f'%regr.intercept_)\r\n",
        "\r\n",
        "#print ('Coefficients: %s'%str(regr.coef_))\r\n",
        "\r\n",
        "plt.scatter(X_test[:,3], y_test, color='black')\r\n",
        "plt.plot(X_test[:,3], y_pred, color='blue', linewidth=3)\r\n",
        "plt.xlabel('X axis')\r\n",
        "plt.ylabel('Y axis')\r\n",
        "plt.show()"
      ],
      "execution_count": 22,
      "outputs": [
        {
          "output_type": "stream",
          "text": [
            "R2 score: -0.011744\n",
            "Intercept: 141.284877\n"
          ],
          "name": "stdout"
        },
        {
          "output_type": "display_data",
          "data": {
            "image/png": "[encoded data removed]",
            "text/plain": [
              "<Figure size 432x288 with 1 Axes>"
            ]
          },
          "metadata": {
            "tags": [],
            "needs_background": "light"
          }
        }
      ]
    },
    {
      "cell_type": "markdown",
      "metadata": {
        "id": "5t00sG4vUHEZ"
      },
      "source": [
        "# **Решение задачи классификации**"
      ]
    },
    {
      "cell_type": "code",
      "metadata": {
        "id": "jEFRvZh3T7AO"
      },
      "source": [
        "from sklearn.ensemble import RandomForestClassifier\r\n",
        "\r\n",
        "#Замена значений на категории -1 и 1\r\n",
        "\r\n",
        "y_train = np.where(y_train > 100, 1, -1)\r\n",
        "y_test = np.where(y_test > 100, 1, -1)"
      ],
      "execution_count": 23,
      "outputs": []
    },
    {
      "cell_type": "markdown",
      "metadata": {
        "id": "VjUDpwrXkJ6j"
      },
      "source": [
        "### **Использование 100 деревьев**"
      ]
    },
    {
      "cell_type": "code",
      "metadata": {
        "colab": {
          "base_uri": "https://localhost:8080/"
        },
        "id": "FHK-rF8JT6-f",
        "outputId": "281431e1-c591-4761-f135-c4662c3c6222"
      },
      "source": [
        "rf = RandomForestClassifier(n_estimators=100)\r\n",
        "rf.fit(X_train, y_train)"
      ],
      "execution_count": 24,
      "outputs": [
        {
          "output_type": "execute_result",
          "data": {
            "text/plain": [
              "RandomForestClassifier(bootstrap=True, ccp_alpha=0.0, class_weight=None,\n",
              "                       criterion='gini', max_depth=None, max_features='auto',\n",
              "                       max_leaf_nodes=None, max_samples=None,\n",
              "                       min_impurity_decrease=0.0, min_impurity_split=None,\n",
              "                       min_samples_leaf=1, min_samples_split=2,\n",
              "                       min_weight_fraction_leaf=0.0, n_estimators=100,\n",
              "                       n_jobs=None, oob_score=False, random_state=None,\n",
              "                       verbose=0, warm_start=False)"
            ]
          },
          "metadata": {
            "tags": []
          },
          "execution_count": 24
        }
      ]
    },
    {
      "cell_type": "markdown",
      "metadata": {
        "id": "Jsz4rLiUka7m"
      },
      "source": [
        "### **Расчет точности классификации**"
      ]
    },
    {
      "cell_type": "code",
      "metadata": {
        "colab": {
          "base_uri": "https://localhost:8080/"
        },
        "id": "AcH9cCHXT67F",
        "outputId": "f60f8a59-9d39-4181-8142-36cee8df85d5"
      },
      "source": [
        "accuracy = rf.score(X_test, y_test)\r\n",
        "print ('Accuracy: %f'%accuracy)"
      ],
      "execution_count": 25,
      "outputs": [
        {
          "output_type": "stream",
          "text": [
            "Accuracy: 0.800000\n"
          ],
          "name": "stdout"
        }
      ]
    },
    {
      "cell_type": "markdown",
      "metadata": {
        "id": "2TayhoN0UN_x"
      },
      "source": [
        "# **Задание**"
      ]
    },
    {
      "cell_type": "markdown",
      "metadata": {
        "id": "jjmEUryHUYUR"
      },
      "source": [
        "### **2А.Построить столбиковую диаграмму по возрасту и соответствующему их количеству**"
      ]
    },
    {
      "cell_type": "code",
      "metadata": {
        "colab": {
          "base_uri": "https://localhost:8080/",
          "height": 399
        },
        "id": "5XzF_1bWUMiz",
        "outputId": "5d13ac6e-6f99-4d58-cdff-672ef4a71399"
      },
      "source": [
        "#Импорт и демонстрация данных\r\n",
        "bd = pd.read_csv('/content/drive/MyDrive/Data Science/train (3) (2).csv')\r\n",
        "bd"
      ],
      "execution_count": 26,
      "outputs": [
        {
          "output_type": "execute_result",
          "data": {
            "text/html": [
              "<div>\n",
              "<style scoped>\n",
              "    .dataframe tbody tr th:only-of-type {\n",
              "        vertical-align: middle;\n",
              "    }\n",
              "\n",
              "    .dataframe tbody tr th {\n",
              "        vertical-align: top;\n",
              "    }\n",
              "\n",
              "    .dataframe thead th {\n",
              "        text-align: right;\n",
              "    }\n",
              "</style>\n",
              "<table border=\"1\" class=\"dataframe\">\n",
              "  <thead>\n",
              "    <tr style=\"text-align: right;\">\n",
              "      <th></th>\n",
              "      <th>PassengerId</th>\n",
              "      <th>Survived</th>\n",
              "      <th>Pclass</th>\n",
              "      <th>Name</th>\n",
              "      <th>Sex</th>\n",
              "      <th>Age</th>\n",
              "      <th>SibSp</th>\n",
              "      <th>Parch</th>\n",
              "      <th>Ticket</th>\n",
              "      <th>Fare</th>\n",
              "      <th>Cabin</th>\n",
              "      <th>Embarked</th>\n",
              "    </tr>\n",
              "  </thead>\n",
              "  <tbody>\n",
              "    <tr>\n",
              "      <th>0</th>\n",
              "      <td>1</td>\n",
              "      <td>0</td>\n",
              "      <td>3</td>\n",
              "      <td>Braund, Mr. Owen Harris</td>\n",
              "      <td>male</td>\n",
              "      <td>22.0</td>\n",
              "      <td>1</td>\n",
              "      <td>0</td>\n",
              "      <td>A/5 21171</td>\n",
              "      <td>7.250</td>\n",
              "      <td>NaN</td>\n",
              "      <td>S</td>\n",
              "    </tr>\n",
              "    <tr>\n",
              "      <th>1</th>\n",
              "      <td>2</td>\n",
              "      <td>1</td>\n",
              "      <td>1</td>\n",
              "      <td>Cumings, Mrs. John Bradley (Florence Briggs Th...</td>\n",
              "      <td>female</td>\n",
              "      <td>38.0</td>\n",
              "      <td>1</td>\n",
              "      <td>0</td>\n",
              "      <td>PC 17599</td>\n",
              "      <td>71.283</td>\n",
              "      <td>C85</td>\n",
              "      <td>C</td>\n",
              "    </tr>\n",
              "    <tr>\n",
              "      <th>2</th>\n",
              "      <td>3</td>\n",
              "      <td>1</td>\n",
              "      <td>3</td>\n",
              "      <td>Heikkinen, Miss. Laina</td>\n",
              "      <td>female</td>\n",
              "      <td>26.0</td>\n",
              "      <td>0</td>\n",
              "      <td>0</td>\n",
              "      <td>STON/O2. 3101282</td>\n",
              "      <td>7.925</td>\n",
              "      <td>NaN</td>\n",
              "      <td>S</td>\n",
              "    </tr>\n",
              "    <tr>\n",
              "      <th>3</th>\n",
              "      <td>4</td>\n",
              "      <td>1</td>\n",
              "      <td>1</td>\n",
              "      <td>Futrelle, Mrs. Jacques Heath (Lily May Peel)</td>\n",
              "      <td>female</td>\n",
              "      <td>35.0</td>\n",
              "      <td>1</td>\n",
              "      <td>0</td>\n",
              "      <td>113803</td>\n",
              "      <td>53.100</td>\n",
              "      <td>C123</td>\n",
              "      <td>S</td>\n",
              "    </tr>\n",
              "    <tr>\n",
              "      <th>4</th>\n",
              "      <td>5</td>\n",
              "      <td>0</td>\n",
              "      <td>3</td>\n",
              "      <td>Allen, Mr. William Henry</td>\n",
              "      <td>male</td>\n",
              "      <td>35.0</td>\n",
              "      <td>0</td>\n",
              "      <td>0</td>\n",
              "      <td>373450</td>\n",
              "      <td>8.050</td>\n",
              "      <td>NaN</td>\n",
              "      <td>S</td>\n",
              "    </tr>\n",
              "    <tr>\n",
              "      <th>...</th>\n",
              "      <td>...</td>\n",
              "      <td>...</td>\n",
              "      <td>...</td>\n",
              "      <td>...</td>\n",
              "      <td>...</td>\n",
              "      <td>...</td>\n",
              "      <td>...</td>\n",
              "      <td>...</td>\n",
              "      <td>...</td>\n",
              "      <td>...</td>\n",
              "      <td>...</td>\n",
              "      <td>...</td>\n",
              "    </tr>\n",
              "    <tr>\n",
              "      <th>886</th>\n",
              "      <td>887</td>\n",
              "      <td>0</td>\n",
              "      <td>2</td>\n",
              "      <td>Montvila, Rev. Juozas</td>\n",
              "      <td>male</td>\n",
              "      <td>27.0</td>\n",
              "      <td>0</td>\n",
              "      <td>0</td>\n",
              "      <td>211536</td>\n",
              "      <td>13.000</td>\n",
              "      <td>NaN</td>\n",
              "      <td>S</td>\n",
              "    </tr>\n",
              "    <tr>\n",
              "      <th>887</th>\n",
              "      <td>888</td>\n",
              "      <td>1</td>\n",
              "      <td>1</td>\n",
              "      <td>Graham, Miss. Margaret Edith</td>\n",
              "      <td>female</td>\n",
              "      <td>19.0</td>\n",
              "      <td>0</td>\n",
              "      <td>0</td>\n",
              "      <td>112053</td>\n",
              "      <td>30.000</td>\n",
              "      <td>B42</td>\n",
              "      <td>S</td>\n",
              "    </tr>\n",
              "    <tr>\n",
              "      <th>888</th>\n",
              "      <td>889</td>\n",
              "      <td>0</td>\n",
              "      <td>3</td>\n",
              "      <td>Johnston, Miss. Catherine Helen \"Carrie\"</td>\n",
              "      <td>female</td>\n",
              "      <td>NaN</td>\n",
              "      <td>1</td>\n",
              "      <td>2</td>\n",
              "      <td>W./C. 6607</td>\n",
              "      <td>23.450</td>\n",
              "      <td>NaN</td>\n",
              "      <td>S</td>\n",
              "    </tr>\n",
              "    <tr>\n",
              "      <th>889</th>\n",
              "      <td>890</td>\n",
              "      <td>1</td>\n",
              "      <td>1</td>\n",
              "      <td>Behr, Mr. Karl Howell</td>\n",
              "      <td>male</td>\n",
              "      <td>26.0</td>\n",
              "      <td>0</td>\n",
              "      <td>0</td>\n",
              "      <td>111369</td>\n",
              "      <td>30.000</td>\n",
              "      <td>C148</td>\n",
              "      <td>C</td>\n",
              "    </tr>\n",
              "    <tr>\n",
              "      <th>890</th>\n",
              "      <td>891</td>\n",
              "      <td>0</td>\n",
              "      <td>3</td>\n",
              "      <td>Dooley, Mr. Patrick</td>\n",
              "      <td>male</td>\n",
              "      <td>32.0</td>\n",
              "      <td>0</td>\n",
              "      <td>0</td>\n",
              "      <td>370376</td>\n",
              "      <td>7.750</td>\n",
              "      <td>NaN</td>\n",
              "      <td>Q</td>\n",
              "    </tr>\n",
              "  </tbody>\n",
              "</table>\n",
              "<p>891 rows × 12 columns</p>\n",
              "</div>"
            ],
            "text/plain": [
              "     PassengerId  Survived  Pclass  ...    Fare Cabin  Embarked\n",
              "0              1         0       3  ...   7.250   NaN         S\n",
              "1              2         1       1  ...  71.283   C85         C\n",
              "2              3         1       3  ...   7.925   NaN         S\n",
              "3              4         1       1  ...  53.100  C123         S\n",
              "4              5         0       3  ...   8.050   NaN         S\n",
              "..           ...       ...     ...  ...     ...   ...       ...\n",
              "886          887         0       2  ...  13.000   NaN         S\n",
              "887          888         1       1  ...  30.000   B42         S\n",
              "888          889         0       3  ...  23.450   NaN         S\n",
              "889          890         1       1  ...  30.000  C148         C\n",
              "890          891         0       3  ...   7.750   NaN         Q\n",
              "\n",
              "[891 rows x 12 columns]"
            ]
          },
          "metadata": {
            "tags": []
          },
          "execution_count": 26
        }
      ]
    },
    {
      "cell_type": "code",
      "metadata": {
        "colab": {
          "base_uri": "https://localhost:8080/",
          "height": 399
        },
        "id": "mAMrNo3yUMdQ",
        "outputId": "718b1283-4568-4ee4-caf6-0d4f6a62cca2"
      },
      "source": [
        "#Очистка данных\r\n",
        "bd = bd.drop(bd[bd.Age==None].index)\r\n",
        "bd = bd.dropna()\r\n",
        "bd"
      ],
      "execution_count": 27,
      "outputs": [
        {
          "output_type": "execute_result",
          "data": {
            "text/html": [
              "<div>\n",
              "<style scoped>\n",
              "    .dataframe tbody tr th:only-of-type {\n",
              "        vertical-align: middle;\n",
              "    }\n",
              "\n",
              "    .dataframe tbody tr th {\n",
              "        vertical-align: top;\n",
              "    }\n",
              "\n",
              "    .dataframe thead th {\n",
              "        text-align: right;\n",
              "    }\n",
              "</style>\n",
              "<table border=\"1\" class=\"dataframe\">\n",
              "  <thead>\n",
              "    <tr style=\"text-align: right;\">\n",
              "      <th></th>\n",
              "      <th>PassengerId</th>\n",
              "      <th>Survived</th>\n",
              "      <th>Pclass</th>\n",
              "      <th>Name</th>\n",
              "      <th>Sex</th>\n",
              "      <th>Age</th>\n",
              "      <th>SibSp</th>\n",
              "      <th>Parch</th>\n",
              "      <th>Ticket</th>\n",
              "      <th>Fare</th>\n",
              "      <th>Cabin</th>\n",
              "      <th>Embarked</th>\n",
              "    </tr>\n",
              "  </thead>\n",
              "  <tbody>\n",
              "    <tr>\n",
              "      <th>1</th>\n",
              "      <td>2</td>\n",
              "      <td>1</td>\n",
              "      <td>1</td>\n",
              "      <td>Cumings, Mrs. John Bradley (Florence Briggs Th...</td>\n",
              "      <td>female</td>\n",
              "      <td>38.0</td>\n",
              "      <td>1</td>\n",
              "      <td>0</td>\n",
              "      <td>PC 17599</td>\n",
              "      <td>71.283</td>\n",
              "      <td>C85</td>\n",
              "      <td>C</td>\n",
              "    </tr>\n",
              "    <tr>\n",
              "      <th>3</th>\n",
              "      <td>4</td>\n",
              "      <td>1</td>\n",
              "      <td>1</td>\n",
              "      <td>Futrelle, Mrs. Jacques Heath (Lily May Peel)</td>\n",
              "      <td>female</td>\n",
              "      <td>35.0</td>\n",
              "      <td>1</td>\n",
              "      <td>0</td>\n",
              "      <td>113803</td>\n",
              "      <td>53.100</td>\n",
              "      <td>C123</td>\n",
              "      <td>S</td>\n",
              "    </tr>\n",
              "    <tr>\n",
              "      <th>6</th>\n",
              "      <td>7</td>\n",
              "      <td>0</td>\n",
              "      <td>1</td>\n",
              "      <td>McCarthy, Mr. Timothy J</td>\n",
              "      <td>male</td>\n",
              "      <td>54.0</td>\n",
              "      <td>0</td>\n",
              "      <td>0</td>\n",
              "      <td>17463</td>\n",
              "      <td>51.862</td>\n",
              "      <td>E46</td>\n",
              "      <td>S</td>\n",
              "    </tr>\n",
              "    <tr>\n",
              "      <th>10</th>\n",
              "      <td>11</td>\n",
              "      <td>1</td>\n",
              "      <td>3</td>\n",
              "      <td>Sandstrom, Miss. Marguerite Rut</td>\n",
              "      <td>female</td>\n",
              "      <td>4.0</td>\n",
              "      <td>1</td>\n",
              "      <td>1</td>\n",
              "      <td>PP 9549</td>\n",
              "      <td>16.700</td>\n",
              "      <td>G6</td>\n",
              "      <td>S</td>\n",
              "    </tr>\n",
              "    <tr>\n",
              "      <th>11</th>\n",
              "      <td>12</td>\n",
              "      <td>1</td>\n",
              "      <td>1</td>\n",
              "      <td>Bonnell, Miss. Elizabeth</td>\n",
              "      <td>female</td>\n",
              "      <td>58.0</td>\n",
              "      <td>0</td>\n",
              "      <td>0</td>\n",
              "      <td>113783</td>\n",
              "      <td>26.550</td>\n",
              "      <td>C103</td>\n",
              "      <td>S</td>\n",
              "    </tr>\n",
              "    <tr>\n",
              "      <th>...</th>\n",
              "      <td>...</td>\n",
              "      <td>...</td>\n",
              "      <td>...</td>\n",
              "      <td>...</td>\n",
              "      <td>...</td>\n",
              "      <td>...</td>\n",
              "      <td>...</td>\n",
              "      <td>...</td>\n",
              "      <td>...</td>\n",
              "      <td>...</td>\n",
              "      <td>...</td>\n",
              "      <td>...</td>\n",
              "    </tr>\n",
              "    <tr>\n",
              "      <th>871</th>\n",
              "      <td>872</td>\n",
              "      <td>1</td>\n",
              "      <td>1</td>\n",
              "      <td>Beckwith, Mrs. Richard Leonard (Sallie Monypeny)</td>\n",
              "      <td>female</td>\n",
              "      <td>47.0</td>\n",
              "      <td>1</td>\n",
              "      <td>1</td>\n",
              "      <td>11751</td>\n",
              "      <td>52.554</td>\n",
              "      <td>D35</td>\n",
              "      <td>S</td>\n",
              "    </tr>\n",
              "    <tr>\n",
              "      <th>872</th>\n",
              "      <td>873</td>\n",
              "      <td>0</td>\n",
              "      <td>1</td>\n",
              "      <td>Carlsson, Mr. Frans Olof</td>\n",
              "      <td>male</td>\n",
              "      <td>33.0</td>\n",
              "      <td>0</td>\n",
              "      <td>0</td>\n",
              "      <td>695</td>\n",
              "      <td>5.000</td>\n",
              "      <td>B51 B53 B55</td>\n",
              "      <td>S</td>\n",
              "    </tr>\n",
              "    <tr>\n",
              "      <th>879</th>\n",
              "      <td>880</td>\n",
              "      <td>1</td>\n",
              "      <td>1</td>\n",
              "      <td>Potter, Mrs. Thomas Jr (Lily Alexenia Wilson)</td>\n",
              "      <td>female</td>\n",
              "      <td>56.0</td>\n",
              "      <td>0</td>\n",
              "      <td>1</td>\n",
              "      <td>11767</td>\n",
              "      <td>83.158</td>\n",
              "      <td>C50</td>\n",
              "      <td>C</td>\n",
              "    </tr>\n",
              "    <tr>\n",
              "      <th>887</th>\n",
              "      <td>888</td>\n",
              "      <td>1</td>\n",
              "      <td>1</td>\n",
              "      <td>Graham, Miss. Margaret Edith</td>\n",
              "      <td>female</td>\n",
              "      <td>19.0</td>\n",
              "      <td>0</td>\n",
              "      <td>0</td>\n",
              "      <td>112053</td>\n",
              "      <td>30.000</td>\n",
              "      <td>B42</td>\n",
              "      <td>S</td>\n",
              "    </tr>\n",
              "    <tr>\n",
              "      <th>889</th>\n",
              "      <td>890</td>\n",
              "      <td>1</td>\n",
              "      <td>1</td>\n",
              "      <td>Behr, Mr. Karl Howell</td>\n",
              "      <td>male</td>\n",
              "      <td>26.0</td>\n",
              "      <td>0</td>\n",
              "      <td>0</td>\n",
              "      <td>111369</td>\n",
              "      <td>30.000</td>\n",
              "      <td>C148</td>\n",
              "      <td>C</td>\n",
              "    </tr>\n",
              "  </tbody>\n",
              "</table>\n",
              "<p>183 rows × 12 columns</p>\n",
              "</div>"
            ],
            "text/plain": [
              "     PassengerId  Survived  Pclass  ...    Fare        Cabin  Embarked\n",
              "1              2         1       1  ...  71.283          C85         C\n",
              "3              4         1       1  ...  53.100         C123         S\n",
              "6              7         0       1  ...  51.862          E46         S\n",
              "10            11         1       3  ...  16.700           G6         S\n",
              "11            12         1       1  ...  26.550         C103         S\n",
              "..           ...       ...     ...  ...     ...          ...       ...\n",
              "871          872         1       1  ...  52.554          D35         S\n",
              "872          873         0       1  ...   5.000  B51 B53 B55         S\n",
              "879          880         1       1  ...  83.158          C50         C\n",
              "887          888         1       1  ...  30.000          B42         S\n",
              "889          890         1       1  ...  30.000         C148         C\n",
              "\n",
              "[183 rows x 12 columns]"
            ]
          },
          "metadata": {
            "tags": []
          },
          "execution_count": 27
        }
      ]
    },
    {
      "cell_type": "code",
      "metadata": {
        "id": "C7pB_E9tu42A",
        "colab": {
          "base_uri": "https://localhost:8080/",
          "height": 262
        },
        "outputId": "69d2b9c0-d315-4a33-ae62-d11d82ff5b19"
      },
      "source": [
        "bar_width = 1\r\n",
        "\r\n",
        "for i in bd.index:\r\n",
        "  plt.bar(bd.Age[i], len(bd[bd.Age==bd.Age[i]]), bar_width , color=\"green\")\r\n",
        "\r\n",
        "plt.show()"
      ],
      "execution_count": 28,
      "outputs": [
        {
          "output_type": "display_data",
          "data": {
            "image/png": "[encoded data removed]",
            "text/plain": [
              "<Figure size 432x288 with 1 Axes>"
            ]
          },
          "metadata": {
            "tags": [],
            "needs_background": "light"
          }
        }
      ]
    },
    {
      "cell_type": "markdown",
      "metadata": {
        "id": "h5v8ypMAwlGI"
      },
      "source": [
        "### **2Б.Построить парную диаграмму между количеством пассажиров разделенных по половому признаку и количеству пассажиров разделенных по возрасту**"
      ]
    },
    {
      "cell_type": "code",
      "metadata": {
        "id": "Evj6Bd-Ru5lL",
        "colab": {
          "base_uri": "https://localhost:8080/",
          "height": 392
        },
        "outputId": "d88c4e0b-a676-4032-8a67-fca63c66c921"
      },
      "source": [
        "print ('Sex: female - 1, male - 0')\r\n",
        "AS_df = pd.DataFrame({\r\n",
        "    'Age': bd.Age,\r\n",
        "    'Sex': bd.Sex.map(lambda x: 1 if x=='female' else 0)\r\n",
        "})\r\n",
        "\r\n",
        "seaborn.pairplot(AS_df)\r\n",
        "plt.show()"
      ],
      "execution_count": 39,
      "outputs": [
        {
          "output_type": "stream",
          "text": [
            "Sex: female - 1, male - 0\n"
          ],
          "name": "stdout"
        },
        {
          "output_type": "display_data",
          "data": {
            "image/png": "[encoded data removed]",
            "text/plain": [
              "<Figure size 360x360 with 6 Axes>"
            ]
          },
          "metadata": {
            "tags": [],
            "needs_background": "light"
          }
        }
      ]
    },
    {
      "cell_type": "markdown",
      "metadata": {
        "id": "6yYwx_Z9wyw4"
      },
      "source": [
        "### **2С.Получить лучшую регрессионную зависимость выживаемости от прочих показателей данных Титаника**"
      ]
    },
    {
      "cell_type": "code",
      "metadata": {
        "id": "lx4Hsakfu-h8"
      },
      "source": [
        "x = pd.DataFrame({\r\n",
        "    'Age': bd.Age,\r\n",
        "    'Pclass': bd.Pclass,\r\n",
        "    'Sex': bd.Sex.map(lambda x: 1 if x=='female' else 0)\r\n",
        "})\r\n",
        "\r\n",
        "\r\n",
        "x_train = x[:-100]\r\n",
        "x_test = x[-100:]\r\n",
        "y_train = x[:-100]\r\n",
        "y_test = x[-100:]\r\n",
        "\r\n",
        "#[(x_test[i][0], y_test[i][0]) for i in range(len(x_test))]"
      ],
      "execution_count": 51,
      "outputs": []
    },
    {
      "cell_type": "code",
      "metadata": {
        "colab": {
          "base_uri": "https://localhost:8080/",
          "height": 399
        },
        "id": "ZnlhaZjKDJbH",
        "outputId": "fdab2834-e79f-4d22-baee-540d46e7aa74"
      },
      "source": [
        "x"
      ],
      "execution_count": 52,
      "outputs": [
        {
          "output_type": "execute_result",
          "data": {
            "text/html": [
              "<div>\n",
              "<style scoped>\n",
              "    .dataframe tbody tr th:only-of-type {\n",
              "        vertical-align: middle;\n",
              "    }\n",
              "\n",
              "    .dataframe tbody tr th {\n",
              "        vertical-align: top;\n",
              "    }\n",
              "\n",
              "    .dataframe thead th {\n",
              "        text-align: right;\n",
              "    }\n",
              "</style>\n",
              "<table border=\"1\" class=\"dataframe\">\n",
              "  <thead>\n",
              "    <tr style=\"text-align: right;\">\n",
              "      <th></th>\n",
              "      <th>Age</th>\n",
              "      <th>Pclass</th>\n",
              "      <th>Sex</th>\n",
              "    </tr>\n",
              "  </thead>\n",
              "  <tbody>\n",
              "    <tr>\n",
              "      <th>1</th>\n",
              "      <td>38.0</td>\n",
              "      <td>1</td>\n",
              "      <td>1</td>\n",
              "    </tr>\n",
              "    <tr>\n",
              "      <th>3</th>\n",
              "      <td>35.0</td>\n",
              "      <td>1</td>\n",
              "      <td>1</td>\n",
              "    </tr>\n",
              "    <tr>\n",
              "      <th>6</th>\n",
              "      <td>54.0</td>\n",
              "      <td>1</td>\n",
              "      <td>0</td>\n",
              "    </tr>\n",
              "    <tr>\n",
              "      <th>10</th>\n",
              "      <td>4.0</td>\n",
              "      <td>3</td>\n",
              "      <td>1</td>\n",
              "    </tr>\n",
              "    <tr>\n",
              "      <th>11</th>\n",
              "      <td>58.0</td>\n",
              "      <td>1</td>\n",
              "      <td>1</td>\n",
              "    </tr>\n",
              "    <tr>\n",
              "      <th>...</th>\n",
              "      <td>...</td>\n",
              "      <td>...</td>\n",
              "      <td>...</td>\n",
              "    </tr>\n",
              "    <tr>\n",
              "      <th>871</th>\n",
              "      <td>47.0</td>\n",
              "      <td>1</td>\n",
              "      <td>1</td>\n",
              "    </tr>\n",
              "    <tr>\n",
              "      <th>872</th>\n",
              "      <td>33.0</td>\n",
              "      <td>1</td>\n",
              "      <td>0</td>\n",
              "    </tr>\n",
              "    <tr>\n",
              "      <th>879</th>\n",
              "      <td>56.0</td>\n",
              "      <td>1</td>\n",
              "      <td>1</td>\n",
              "    </tr>\n",
              "    <tr>\n",
              "      <th>887</th>\n",
              "      <td>19.0</td>\n",
              "      <td>1</td>\n",
              "      <td>1</td>\n",
              "    </tr>\n",
              "    <tr>\n",
              "      <th>889</th>\n",
              "      <td>26.0</td>\n",
              "      <td>1</td>\n",
              "      <td>0</td>\n",
              "    </tr>\n",
              "  </tbody>\n",
              "</table>\n",
              "<p>183 rows × 3 columns</p>\n",
              "</div>"
            ],
            "text/plain": [
              "      Age  Pclass  Sex\n",
              "1    38.0       1    1\n",
              "3    35.0       1    1\n",
              "6    54.0       1    0\n",
              "10    4.0       3    1\n",
              "11   58.0       1    1\n",
              "..    ...     ...  ...\n",
              "871  47.0       1    1\n",
              "872  33.0       1    0\n",
              "879  56.0       1    1\n",
              "887  19.0       1    1\n",
              "889  26.0       1    0\n",
              "\n",
              "[183 rows x 3 columns]"
            ]
          },
          "metadata": {
            "tags": []
          },
          "execution_count": 52
        }
      ]
    },
    {
      "cell_type": "code",
      "metadata": {
        "id": "Dzs8jaOK-n4M"
      },
      "source": [
        "from sklearn.linear_model import LinearRegression\r\n",
        "regr = LinearRegression()"
      ],
      "execution_count": 53,
      "outputs": []
    },
    {
      "cell_type": "code",
      "metadata": {
        "colab": {
          "base_uri": "https://localhost:8080/"
        },
        "id": "O69Ww2jh9eWA",
        "outputId": "922e0c42-6213-442e-bfb0-6b7ba815f369"
      },
      "source": [
        "regr.fit(x_train, y_train)"
      ],
      "execution_count": 54,
      "outputs": [
        {
          "output_type": "execute_result",
          "data": {
            "text/plain": [
              "LinearRegression(copy_X=True, fit_intercept=True, n_jobs=None, normalize=False)"
            ]
          },
          "metadata": {
            "tags": []
          },
          "execution_count": 54
        }
      ]
    },
    {
      "cell_type": "markdown",
      "metadata": {
        "id": "CWj7iaep_T-F"
      },
      "source": [
        "Прогнозирование"
      ]
    },
    {
      "cell_type": "code",
      "metadata": {
        "id": "M_nGd_javDQ5",
        "colab": {
          "base_uri": "https://localhost:8080/"
        },
        "outputId": "54bb664b-4266-48bc-9af1-0b5a5562ece0"
      },
      "source": [
        "y_pred = regr.predict(x_test)\r\n",
        "print ('R2 score: %f' %r2_score(y_test, y_pred))\r\n",
        "print ('Intercept: %f' %regr.intercept_[0])\r\n",
        "print ('Coefficients: %s' %str(regr.coef_))"
      ],
      "execution_count": 62,
      "outputs": [
        {
          "output_type": "stream",
          "text": [
            "R2 score: 1.000000\n",
            "Intercept: 0.000000\n",
            "Coefficients: [[ 1.00000000e+00 -3.76801462e-18  6.80704289e-17]\n",
            " [ 6.91274313e-18  1.00000000e+00  1.11022302e-16]\n",
            " [ 1.84637663e-18 -5.55111512e-17  1.00000000e+00]]\n"
          ],
          "name": "stdout"
        }
      ]
    },
    {
      "cell_type": "code",
      "metadata": {
        "colab": {
          "base_uri": "https://localhost:8080/"
        },
        "id": "wgUsdWAdDno-",
        "outputId": "072a0fb6-fc8a-4d71-bb74-9210abcf60e7"
      },
      "source": [
        "#Intercept\r\n",
        "regr.intercept_"
      ],
      "execution_count": 59,
      "outputs": [
        {
          "output_type": "execute_result",
          "data": {
            "text/plain": [
              "array([ 1.42108547e-14, -8.88178420e-16,  1.11022302e-16])"
            ]
          },
          "metadata": {
            "tags": []
          },
          "execution_count": 59
        }
      ]
    },
    {
      "cell_type": "code",
      "metadata": {
        "id": "aI-DYH8c_Wdf",
        "colab": {
          "base_uri": "https://localhost:8080/",
          "height": 276
        },
        "outputId": "1d4abe39-d398-4d18-d487-3689336d7674"
      },
      "source": [
        "plt.scatter(x_test, y_test, color='red')\r\n",
        "plt.plot(x_test, y_pred, color='green', linewidth=3)\r\n",
        "plt.xlabel('X')\r\n",
        "plt.ylabel('Y')\r\n",
        "plt.show()"
      ],
      "execution_count": 60,
      "outputs": [
        {
          "output_type": "display_data",
          "data": {
            "image/png": "[encoded data removed]",
            "text/plain": [
              "<Figure size 432x288 with 1 Axes>"
            ]
          },
          "metadata": {
            "tags": [],
            "needs_background": "light"
          }
        }
      ]
    },
    {
      "cell_type": "markdown",
      "metadata": {
        "id": "l2XJ-9tVvJEe"
      },
      "source": [
        "### **2Д.Построить классификационную модель для выживаемости на основе деревьев решений**"
      ]
    },
    {
      "cell_type": "code",
      "metadata": {
        "id": "j9hoy7qlEtzi"
      },
      "source": [
        "from sklearn.ensemble import RandomForestClassifier\r\n"
      ],
      "execution_count": 72,
      "outputs": []
    },
    {
      "cell_type": "code",
      "metadata": {
        "id": "760H3Lz0vNB3",
        "colab": {
          "base_uri": "https://localhost:8080/"
        },
        "outputId": "e0e87fca-e97b-438a-e44c-e76195904715"
      },
      "source": [
        "#Использование 100 деревьев\r\n",
        "rf = RandomForestClassifier(n_estimators=100)\r\n",
        "rf.fit(x_train, y_train)"
      ],
      "execution_count": 78,
      "outputs": [
        {
          "output_type": "execute_result",
          "data": {
            "text/plain": [
              "RandomForestClassifier(bootstrap=True, ccp_alpha=0.0, class_weight=None,\n",
              "                       criterion='gini', max_depth=None, max_features='auto',\n",
              "                       max_leaf_nodes=None, max_samples=None,\n",
              "                       min_impurity_decrease=0.0, min_impurity_split=None,\n",
              "                       min_samples_leaf=1, min_samples_split=2,\n",
              "                       min_weight_fraction_leaf=0.0, n_estimators=100,\n",
              "                       n_jobs=None, oob_score=False, random_state=None,\n",
              "                       verbose=0, warm_start=False)"
            ]
          },
          "metadata": {
            "tags": []
          },
          "execution_count": 78
        }
      ]
    },
    {
      "cell_type": "code",
      "metadata": {
        "id": "QrYck1KrvRab",
        "colab": {
          "base_uri": "https://localhost:8080/"
        },
        "outputId": "88cf1796-0cfc-4dc5-bd35-0c357aeb413d"
      },
      "source": [
        "rf.predict(x_train) "
      ],
      "execution_count": 76,
      "outputs": [
        {
          "output_type": "execute_result",
          "data": {
            "text/plain": [
              "array([[-1, -1, -1],\n",
              "       [-1, -1, -1],\n",
              "       [-1, -1, -1],\n",
              "       [-1, -1, -1],\n",
              "       [-1, -1, -1],\n",
              "       [-1, -1, -1],\n",
              "       [-1, -1, -1],\n",
              "       [-1, -1, -1],\n",
              "       [-1, -1, -1],\n",
              "       [-1, -1, -1],\n",
              "       [-1, -1, -1],\n",
              "       [-1, -1, -1],\n",
              "       [-1, -1, -1],\n",
              "       [-1, -1, -1],\n",
              "       [-1, -1, -1],\n",
              "       [-1, -1, -1],\n",
              "       [-1, -1, -1],\n",
              "       [-1, -1, -1],\n",
              "       [-1, -1, -1],\n",
              "       [-1, -1, -1],\n",
              "       [-1, -1, -1],\n",
              "       [-1, -1, -1],\n",
              "       [-1, -1, -1],\n",
              "       [-1, -1, -1],\n",
              "       [-1, -1, -1],\n",
              "       [-1, -1, -1],\n",
              "       [-1, -1, -1],\n",
              "       [-1, -1, -1],\n",
              "       [-1, -1, -1],\n",
              "       [-1, -1, -1],\n",
              "       [-1, -1, -1],\n",
              "       [-1, -1, -1],\n",
              "       [-1, -1, -1],\n",
              "       [-1, -1, -1],\n",
              "       [-1, -1, -1],\n",
              "       [-1, -1, -1],\n",
              "       [-1, -1, -1],\n",
              "       [-1, -1, -1],\n",
              "       [-1, -1, -1],\n",
              "       [-1, -1, -1],\n",
              "       [-1, -1, -1],\n",
              "       [-1, -1, -1],\n",
              "       [-1, -1, -1],\n",
              "       [-1, -1, -1],\n",
              "       [-1, -1, -1],\n",
              "       [-1, -1, -1],\n",
              "       [-1, -1, -1],\n",
              "       [-1, -1, -1],\n",
              "       [-1, -1, -1],\n",
              "       [-1, -1, -1],\n",
              "       [-1, -1, -1],\n",
              "       [-1, -1, -1],\n",
              "       [-1, -1, -1],\n",
              "       [-1, -1, -1],\n",
              "       [-1, -1, -1],\n",
              "       [-1, -1, -1],\n",
              "       [-1, -1, -1],\n",
              "       [-1, -1, -1],\n",
              "       [-1, -1, -1],\n",
              "       [-1, -1, -1],\n",
              "       [-1, -1, -1],\n",
              "       [-1, -1, -1],\n",
              "       [-1, -1, -1],\n",
              "       [-1, -1, -1],\n",
              "       [-1, -1, -1],\n",
              "       [-1, -1, -1],\n",
              "       [-1, -1, -1],\n",
              "       [-1, -1, -1],\n",
              "       [-1, -1, -1],\n",
              "       [-1, -1, -1],\n",
              "       [-1, -1, -1],\n",
              "       [-1, -1, -1],\n",
              "       [-1, -1, -1],\n",
              "       [-1, -1, -1],\n",
              "       [-1, -1, -1],\n",
              "       [-1, -1, -1],\n",
              "       [-1, -1, -1],\n",
              "       [-1, -1, -1],\n",
              "       [-1, -1, -1],\n",
              "       [-1, -1, -1],\n",
              "       [-1, -1, -1],\n",
              "       [-1, -1, -1],\n",
              "       [-1, -1, -1]])"
            ]
          },
          "metadata": {
            "tags": []
          },
          "execution_count": 76
        }
      ]
    },
    {
      "cell_type": "code",
      "metadata": {
        "id": "HfURSdkKvTIl",
        "colab": {
          "base_uri": "https://localhost:8080/"
        },
        "outputId": "6178f4e9-b611-46fd-81e4-46bb86f201dc"
      },
      "source": [
        "#Расчет точности классификации\r\n",
        "accuracy = rf.score(x_test, y_test)\r\n",
        "print('Accuracy: %f'%accuracy)"
      ],
      "execution_count": 77,
      "outputs": [
        {
          "output_type": "stream",
          "text": [
            "Accuracy: 1.000000\n"
          ],
          "name": "stdout"
        }
      ]
    }
  ]
}