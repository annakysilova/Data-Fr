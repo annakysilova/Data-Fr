{
  "nbformat": 4,
  "nbformat_minor": 0,
  "metadata": {
    "colab": {
      "name": "Untitled5.ipynb",
      "provenance": [],
      "authorship_tag": "ABX9TyPWvOLqwb7FmSWbK4+NfokA",
      "include_colab_link": true
    },
    "kernelspec": {
      "name": "python3",
      "display_name": "Python 3"
    }
  },
  "cells": [
    {
      "cell_type": "markdown",
      "metadata": {
        "id": "view-in-github",
        "colab_type": "text"
      },
      "source": [
        "<a href=\"https://colab.research.google.com/github/annakysilova/Data-Fr/blob/main/Lab4PY.ipynb\" target=\"_parent\"><img src=\"https://colab.research.google.com/assets/colab-badge.svg\" alt=\"Open In Colab\"/></a>"
      ]
    },
    {
      "cell_type": "code",
      "metadata": {
        "colab": {
          "base_uri": "https://localhost:8080/"
        },
        "id": "q27nDLhMaKsH",
        "outputId": "2c91dbfa-7a3b-41b7-81b2-34ee25948235"
      },
      "source": [
        "#5\r\n",
        "class Dict:\r\n",
        "    \r\n",
        "    translations = {} # map<string, list<string>>\r\n",
        "    \r\n",
        "    def addTranslation(self, word, trans):\r\n",
        "        word = word.lower()\r\n",
        "        trans = trans.lower()\r\n",
        "        \r\n",
        "        if word not in self.translations:\r\n",
        "            self.translations[word] = [trans]\r\n",
        "        else:\r\n",
        "            self.translations[word].append(trans)\r\n",
        "        \r\n",
        "    def getTranslations(self, word):\r\n",
        "        if word in    self.translations:\r\n",
        "            return self.translations[word]\r\n",
        "        else :\r\n",
        "            return []\r\n",
        "              \r\n",
        "dict = Dict()\r\n",
        "dict.addTranslation(\"Hi\", \"Привет\")\r\n",
        "dict.addTranslation(\"Hi\", \"Здарова\")\r\n",
        "dict.addTranslation(\"hi\", \"Здравствуйте\")\r\n",
        "print(dict.getTranslations(\"hi\"))"
      ],
      "execution_count": 13,
      "outputs": [
        {
          "output_type": "stream",
          "text": [
            "['привет', 'здарова', 'здравствуйте']\n"
          ],
          "name": "stdout"
        }
      ]
    },
    {
      "cell_type": "code",
      "metadata": {
        "id": "h3-B5BFTZtTZ"
      },
      "source": [
        "#9\r\n",
        "import datetime\r\n",
        "\r\n",
        "class Product:\r\n",
        "    cost = 0.0\r\n",
        "    model = \"\"\r\n",
        "    date = datetime.date(2021, 1,1)\r\n",
        "    \r\n",
        "    def __init__(self, cost, model, date):\r\n",
        "        self.cost = cost\r\n",
        "        self.model = model\r\n",
        "        self.date = date\r\n",
        "        \r\n",
        "class TV(Product):\r\n",
        "    diagonal = 0.0\r\n",
        "    matrix = \"\"\r\n",
        "    \r\n",
        "    def __init__(self, cost, model, date, diagonal, matrix):\r\n",
        "        self.cost = cost\r\n",
        "        self.model = model\r\n",
        "        self.date = date\r\n",
        "        self.diagonal= diagonal\r\n",
        "        self.matrix = matrix\r\n",
        "\r\n",
        "class Phone(Product):\r\n",
        "    os = \"\"\r\n",
        "    cameras = 0\r\n",
        "    \r\n",
        "    def __init__(self, cost, model, date, os, cameras):\r\n",
        "        self.cost = cost\r\n",
        "        self.model = model\r\n",
        "        self.date = date\r\n",
        "        self.os = os\r\n",
        "        self.cameras = cameras\r\n",
        "\r\n",
        "class Notebook(Product):\r\n",
        "    diagonal = 0.0\r\n",
        "    processor = \"\"\r\n",
        "    \r\n",
        "    def __init__(self, cost, model, date, diagonal, processor):\r\n",
        "        self.cost = cost\r\n",
        "        self.model = model\r\n",
        "        self.date = date\r\n",
        "        self.diagonal= diagonal\r\n",
        "        self.processor = processor\r\n",
        "\r\n",
        "tv = TV(30000, \"p\", datetime.date(2021, 1,1), 30, \"led\")\r\n",
        "phone = Phone(30000, \"p\", datetime.date(2021, 1,1), \"android 11\", 4)\r\n",
        "notebook = Notebook(30000, \"p\", datetime.date(2021, 1,1), 15, \"intel i14 88f\")"
      ],
      "execution_count": 14,
      "outputs": []
    },
    {
      "cell_type": "code",
      "metadata": {
        "colab": {
          "base_uri": "https://localhost:8080/"
        },
        "id": "vtx5QrvbcarD",
        "outputId": "23d091bd-aeae-45d5-9cfc-3adb28513db9"
      },
      "source": [
        "print (tv.cost)\r\n",
        "print (phone.cost, phone.model)\r\n",
        "print (notebook.diagonal, notebook.cost)"
      ],
      "execution_count": 15,
      "outputs": [
        {
          "output_type": "stream",
          "text": [
            "30000\n",
            "30000 p\n",
            "15 30000\n"
          ],
          "name": "stdout"
        }
      ]
    }
  ]
}